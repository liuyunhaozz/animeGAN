{
  "nbformat": 4,
  "nbformat_minor": 0,
  "metadata": {
    "colab": {
      "name": "anime.ipynb",
      "provenance": [],
      "collapsed_sections": [],
      "toc_visible": true
    },
    "kernelspec": {
      "name": "python3",
      "display_name": "Python 3"
    },
    "language_info": {
      "name": "python"
    },
    "accelerator": "GPU"
  },
  "cells": [
    {
      "cell_type": "markdown",
      "source": [
        "# 训练部分"
      ],
      "metadata": {
        "id": "NiIDnQgelqjs"
      }
    },
    {
      "cell_type": "code",
      "source": [
        "# 查看当前 python 版本\n",
        "!python --version"
      ],
      "metadata": {
        "colab": {
          "base_uri": "https://localhost:8080/",
          "height": 0
        },
        "id": "npSr9j-FlfbT",
        "outputId": "3ce2ae9b-1da6-4bb7-e337-9037bb8c3447"
      },
      "execution_count": 1,
      "outputs": [
        {
          "output_type": "stream",
          "name": "stdout",
          "text": [
            "Python 3.7.12\n"
          ]
        }
      ]
    },
    {
      "cell_type": "code",
      "execution_count": null,
      "metadata": {
        "colab": {
          "base_uri": "https://localhost:8080/"
        },
        "id": "y2c7-ApXhocq",
        "outputId": "9907aae5-ae45-47c5-ffb5-690cfe090069"
      },
      "outputs": [
        {
          "output_type": "stream",
          "name": "stdout",
          "text": [
            "Wed Mar  2 12:08:59 2022       \n",
            "+-----------------------------------------------------------------------------+\n",
            "| NVIDIA-SMI 460.32.03    Driver Version: 460.32.03    CUDA Version: 11.2     |\n",
            "|-------------------------------+----------------------+----------------------+\n",
            "| GPU  Name        Persistence-M| Bus-Id        Disp.A | Volatile Uncorr. ECC |\n",
            "| Fan  Temp  Perf  Pwr:Usage/Cap|         Memory-Usage | GPU-Util  Compute M. |\n",
            "|                               |                      |               MIG M. |\n",
            "|===============================+======================+======================|\n",
            "|   0  Tesla T4            Off  | 00000000:00:04.0 Off |                    0 |\n",
            "| N/A   33C    P8     9W /  70W |      0MiB / 15109MiB |      0%      Default |\n",
            "|                               |                      |                  N/A |\n",
            "+-------------------------------+----------------------+----------------------+\n",
            "                                                                               \n",
            "+-----------------------------------------------------------------------------+\n",
            "| Processes:                                                                  |\n",
            "|  GPU   GI   CI        PID   Type   Process name                  GPU Memory |\n",
            "|        ID   ID                                                   Usage      |\n",
            "|=============================================================================|\n",
            "|  No running processes found                                                 |\n",
            "+-----------------------------------------------------------------------------+\n"
          ]
        }
      ],
      "source": [
        "# 查看显卡当前执行情况\n",
        "!nvidia-smi"
      ]
    },
    {
      "cell_type": "code",
      "source": [
        "# clone 项目文件\n",
        "!git clone https://github.com/liuyunhaozz/pytorch-book.git"
      ],
      "metadata": {
        "colab": {
          "base_uri": "https://localhost:8080/",
          "height": 0
        },
        "id": "aiKiv-gxiKge",
        "outputId": "191fa923-1903-49f2-916a-08d706a0d70d"
      },
      "execution_count": 2,
      "outputs": [
        {
          "output_type": "stream",
          "name": "stdout",
          "text": [
            "Cloning into 'pytorch-book'...\n",
            "remote: Enumerating objects: 592, done.\u001b[K\n",
            "remote: Counting objects: 100% (8/8), done.\u001b[K\n",
            "remote: Compressing objects: 100% (5/5), done.\u001b[K\n",
            "remote: Total 592 (delta 3), reused 8 (delta 3), pack-reused 584\u001b[K\n",
            "Receiving objects: 100% (592/592), 10.51 MiB | 25.08 MiB/s, done.\n",
            "Resolving deltas: 100% (291/291), done.\n"
          ]
        }
      ]
    },
    {
      "cell_type": "code",
      "source": [
        "# 更新项目文件代码\n",
        "!cd pytorch-book/chapter07-AnimeGAN/ && git pull"
      ],
      "metadata": {
        "colab": {
          "base_uri": "https://localhost:8080/"
        },
        "id": "MRCS_TyYp4fz",
        "outputId": "8a3f2727-5ded-49ec-f93f-f4972ae1decd"
      },
      "execution_count": null,
      "outputs": [
        {
          "output_type": "stream",
          "name": "stdout",
          "text": [
            "remote: Enumerating objects: 7, done.\u001b[K\n",
            "remote: Counting objects:  14% (1/7)\u001b[K\rremote: Counting objects:  28% (2/7)\u001b[K\rremote: Counting objects:  42% (3/7)\u001b[K\rremote: Counting objects:  57% (4/7)\u001b[K\rremote: Counting objects:  71% (5/7)\u001b[K\rremote: Counting objects:  85% (6/7)\u001b[K\rremote: Counting objects: 100% (7/7)\u001b[K\rremote: Counting objects: 100% (7/7), done.\u001b[K\n",
            "remote: Compressing objects: 100% (1/1)\u001b[K\rremote: Compressing objects: 100% (1/1), done.\u001b[K\n",
            "remote: Total 4 (delta 3), reused 4 (delta 3), pack-reused 0\u001b[K\n",
            "Unpacking objects:  25% (1/4)   \rUnpacking objects:  50% (2/4)   \rUnpacking objects:  75% (3/4)   \rUnpacking objects: 100% (4/4)   \rUnpacking objects: 100% (4/4), done.\n",
            "From https://github.com/liuyunhaozz/pytorch-book\n",
            "   2e24fe7..a685f57  master     -> origin/master\n",
            "Updating 2e24fe7..a685f57\n",
            "Fast-forward\n",
            " chapter07-AnimeGAN/main.py | 6 \u001b[32m++++\u001b[m\u001b[31m--\u001b[m\n",
            " 1 file changed, 4 insertions(+), 2 deletions(-)\n"
          ]
        }
      ]
    },
    {
      "cell_type": "code",
      "source": [
        "# 从 Google 硬盘中导入训练集\n",
        "!cp drive/MyDrive/faces.zip pytorch-book/chapter07-AnimeGAN/data"
      ],
      "metadata": {
        "id": "jUWSPg2UiR7p"
      },
      "execution_count": 3,
      "outputs": []
    },
    {
      "cell_type": "code",
      "source": [
        "# 删除原有链接文件\n",
        "!rm pytorch-book/chapter07-AnimeGAN/data/faces"
      ],
      "metadata": {
        "id": "7vxsZyO2j_r2"
      },
      "execution_count": null,
      "outputs": []
    },
    {
      "cell_type": "code",
      "source": [
        "# 解压训练集\n",
        "!unzip pytorch-book/chapter07-AnimeGAN/data/faces.zip"
      ],
      "metadata": {
        "id": "3Z6n5QUfkMe2"
      },
      "execution_count": null,
      "outputs": []
    },
    {
      "cell_type": "code",
      "source": [
        "# 将训练集图片移到工作目录\n",
        "!mv faces pytorch-book/chapter07-AnimeGAN/data/"
      ],
      "metadata": {
        "id": "17idygPSkmo2"
      },
      "execution_count": null,
      "outputs": []
    },
    {
      "cell_type": "code",
      "source": [
        "# 查看训练集文件数\n",
        "!ls pytorch-book/chapter07-AnimeGAN/data/faces | wc -l "
      ],
      "metadata": {
        "colab": {
          "base_uri": "https://localhost:8080/"
        },
        "id": "7nQVnaj_k4PL",
        "outputId": "0a9301ff-cbc7-4af2-cfdd-abdcbba7d316"
      },
      "execution_count": null,
      "outputs": [
        {
          "output_type": "stream",
          "name": "stdout",
          "text": [
            "51223\n"
          ]
        }
      ]
    },
    {
      "cell_type": "code",
      "source": [
        "# 安装所需依赖项\n",
        "!cd pytorch-book/chapter07-AnimeGAN/ && pip install -r requiments.txt"
      ],
      "metadata": {
        "id": "Plu0KiV_loDc"
      },
      "execution_count": null,
      "outputs": []
    },
    {
      "cell_type": "code",
      "source": [
        "# 开始训练\n",
        "!cd pytorch-book/chapter07-AnimeGAN/ && python main.py train --gpu --vis=False"
      ],
      "metadata": {
        "colab": {
          "base_uri": "https://localhost:8080/"
        },
        "id": "oRIHRDVolJq5",
        "outputId": "7d2aaf56-ea75-4773-996b-d461d783fb5d"
      },
      "execution_count": null,
      "outputs": [
        {
          "output_type": "stream",
          "name": "stdout",
          "text": [
            "^C\n"
          ]
        }
      ]
    },
    {
      "cell_type": "markdown",
      "source": [
        "# 测试部分"
      ],
      "metadata": {
        "id": "-EnrEa8NllqM"
      }
    },
    {
      "cell_type": "markdown",
      "source": [
        ""
      ],
      "metadata": {
        "id": "DZjYcVC6syCa"
      }
    },
    {
      "cell_type": "code",
      "source": [
        "# 从 Google 硬盘中导入保存的模型文件\n",
        "!cp drive/MyDrive/netd_200.pth pytorch-book/chapter07-AnimeGAN/checkpoints/"
      ],
      "metadata": {
        "id": "tIZ5wor4vl9B"
      },
      "execution_count": 7,
      "outputs": []
    },
    {
      "cell_type": "code",
      "source": [
        "# 查看模型目录中生成的生成器和判别器的模型文件\n",
        "!ls pytorch-book/chapter07-AnimeGAN/checkpoints/"
      ],
      "metadata": {
        "colab": {
          "base_uri": "https://localhost:8080/",
          "height": 0
        },
        "id": "vo01gKZnwH2U",
        "outputId": "9d14a256-cf6e-45ff-849e-e0fb5a7b564e"
      },
      "execution_count": 8,
      "outputs": [
        {
          "output_type": "stream",
          "name": "stdout",
          "text": [
            "netd_200.pth  netg_200.pth\n"
          ]
        }
      ]
    },
    {
      "cell_type": "code",
      "source": [
        "# 根据训练出的生成器生成图片\n",
        "!cd pytorch-book/chapter07-AnimeGAN && python main.py generate --nogpu --vis=False \\\n",
        "            --netd-path=checkpoints/netd_200.pth \\\n",
        "            --netg-path=checkpoints/netg_200.pth \\\n",
        "            --gen-img=30.png \\\n",
        "            --gen-num=64"
      ],
      "metadata": {
        "colab": {
          "base_uri": "https://localhost:8080/",
          "height": 0
        },
        "id": "Pk717fKw3Zrx",
        "outputId": "2a8c57cc-a925-43da-e136-3217846af43b"
      },
      "execution_count": 17,
      "outputs": [
        {
          "output_type": "stream",
          "name": "stdout",
          "text": [
            "/usr/local/lib/python3.7/dist-packages/torchvision/utils.py:50: UserWarning: range will be deprecated, please use value_range instead.\n",
            "  warnings.warn(warning)\n"
          ]
        }
      ]
    }
  ]
}